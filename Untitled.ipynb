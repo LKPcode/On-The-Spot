{
 "cells": [
  {
   "cell_type": "code",
   "execution_count": 8,
   "id": "942c8f2c",
   "metadata": {
    "scrolled": true
   },
   "outputs": [],
   "source": [
    "from get_data import BinanceAPI\n",
    "\n",
    "client = BinanceAPI()"
   ]
  },
  {
   "cell_type": "code",
   "execution_count": 9,
   "id": "4a4588fa",
   "metadata": {},
   "outputs": [
    {
     "ename": "AttributeError",
     "evalue": "'BinanceAPI' object has no attribute 'execute_all_swaps'",
     "output_type": "error",
     "traceback": [
      "\u001b[0;31m---------------------------------------------------------------------------\u001b[0m",
      "\u001b[0;31mAttributeError\u001b[0m                            Traceback (most recent call last)",
      "\u001b[1;32m/Users/spectator/Desktop/spot_trading/Untitled.ipynb Cell 2'\u001b[0m in \u001b[0;36m<module>\u001b[0;34m\u001b[0m\n\u001b[1;32m      <a href='vscode-notebook-cell:/Users/spectator/Desktop/spot_trading/Untitled.ipynb#ch0000001?line=0'>1</a>\u001b[0m sell \u001b[39m=\u001b[39m [\n\u001b[1;32m      <a href='vscode-notebook-cell:/Users/spectator/Desktop/spot_trading/Untitled.ipynb#ch0000001?line=1'>2</a>\u001b[0m \n\u001b[1;32m      <a href='vscode-notebook-cell:/Users/spectator/Desktop/spot_trading/Untitled.ipynb#ch0000001?line=2'>3</a>\u001b[0m     { \n\u001b[0;32m   (...)\u001b[0m\n\u001b[1;32m      <a href='vscode-notebook-cell:/Users/spectator/Desktop/spot_trading/Untitled.ipynb#ch0000001?line=5'>6</a>\u001b[0m     }\n\u001b[1;32m      <a href='vscode-notebook-cell:/Users/spectator/Desktop/spot_trading/Untitled.ipynb#ch0000001?line=6'>7</a>\u001b[0m ]\n\u001b[1;32m      <a href='vscode-notebook-cell:/Users/spectator/Desktop/spot_trading/Untitled.ipynb#ch0000001?line=8'>9</a>\u001b[0m buy \u001b[39m=\u001b[39m [\n\u001b[1;32m     <a href='vscode-notebook-cell:/Users/spectator/Desktop/spot_trading/Untitled.ipynb#ch0000001?line=9'>10</a>\u001b[0m     {\n\u001b[1;32m     <a href='vscode-notebook-cell:/Users/spectator/Desktop/spot_trading/Untitled.ipynb#ch0000001?line=10'>11</a>\u001b[0m         \u001b[39m\"\u001b[39m\u001b[39masset\u001b[39m\u001b[39m\"\u001b[39m:\u001b[39m\"\u001b[39m\u001b[39mSTX\u001b[39m\u001b[39m\"\u001b[39m,\n\u001b[0;32m   (...)\u001b[0m\n\u001b[1;32m     <a href='vscode-notebook-cell:/Users/spectator/Desktop/spot_trading/Untitled.ipynb#ch0000001?line=16'>17</a>\u001b[0m     }\n\u001b[1;32m     <a href='vscode-notebook-cell:/Users/spectator/Desktop/spot_trading/Untitled.ipynb#ch0000001?line=17'>18</a>\u001b[0m ]\n\u001b[0;32m---> <a href='vscode-notebook-cell:/Users/spectator/Desktop/spot_trading/Untitled.ipynb#ch0000001?line=20'>21</a>\u001b[0m client\u001b[39m.\u001b[39;49mexecute_all_swaps(sell, buy)\n",
      "\u001b[0;31mAttributeError\u001b[0m: 'BinanceAPI' object has no attribute 'execute_all_swaps'"
     ]
    }
   ],
   "source": [
    "\n",
    "sell = [\n",
    "\n",
    "    { \n",
    "        \"asset\": \"AAVE\",\n",
    "        \"amount\": 0.08\n",
    "    }\n",
    "]\n",
    "\n",
    "buy = [\n",
    "    {\n",
    "        \"asset\":\"STX\",\n",
    "        \"percent\":50\n",
    "    },\n",
    "    {\n",
    "        \"asset\":\"STX\",\n",
    "        \"percent\":50\n",
    "    }\n",
    "]\n",
    "\n",
    "\n",
    "client.execute_all_swaps(sell, buy)\n"
   ]
  },
  {
   "cell_type": "code",
   "execution_count": 25,
   "id": "311d6159",
   "metadata": {},
   "outputs": [
    {
     "name": "stdout",
     "output_type": "stream",
     "text": [
      "{'symbol': 'ETHBUSD', 'status': 'TRADING', 'baseAsset': 'ETH', 'baseAssetPrecision': 8, 'quoteAsset': 'BUSD', 'quotePrecision': 8, 'quoteAssetPrecision': 8, 'baseCommissionPrecision': 8, 'quoteCommissionPrecision': 8, 'orderTypes': ['LIMIT', 'LIMIT_MAKER', 'MARKET', 'STOP_LOSS_LIMIT', 'TAKE_PROFIT_LIMIT'], 'icebergAllowed': True, 'ocoAllowed': True, 'quoteOrderQtyMarketAllowed': True, 'isSpotTradingAllowed': True, 'isMarginTradingAllowed': False, 'filters': [{'filterType': 'PRICE_FILTER', 'minPrice': '0.01000000', 'maxPrice': '100000.00000000', 'tickSize': '0.01000000'}, {'filterType': 'PERCENT_PRICE', 'multiplierUp': '5', 'multiplierDown': '0.2', 'avgPriceMins': 5}, {'filterType': 'LOT_SIZE', 'minQty': '0.00001000', 'maxQty': '9000.00000000', 'stepSize': '0.00001000'}, {'filterType': 'MIN_NOTIONAL', 'minNotional': '10.00000000', 'applyToMarket': True, 'avgPriceMins': 5}, {'filterType': 'ICEBERG_PARTS', 'limit': 10}, {'filterType': 'MARKET_LOT_SIZE', 'minQty': '0.00000000', 'maxQty': '1000.00000000', 'stepSize': '0.00000000'}, {'filterType': 'MAX_NUM_ORDERS', 'maxNumOrders': 200}, {'filterType': 'MAX_NUM_ALGO_ORDERS', 'maxNumAlgoOrders': 5}], 'permissions': ['SPOT']}\n"
     ]
    }
   ],
   "source": [
    "\n",
    "print(client.client.get_symbol_info('ETHBUSD'))"
   ]
  }
 ],
 "metadata": {
  "kernelspec": {
   "display_name": "Python 3",
   "language": "python",
   "name": "python3"
  },
  "language_info": {
   "codemirror_mode": {
    "name": "ipython",
    "version": 3
   },
   "file_extension": ".py",
   "mimetype": "text/x-python",
   "name": "python",
   "nbconvert_exporter": "python",
   "pygments_lexer": "ipython3",
   "version": "3.9.8"
  }
 },
 "nbformat": 4,
 "nbformat_minor": 5
}
